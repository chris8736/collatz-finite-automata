{
 "cells": [
  {
   "cell_type": "markdown",
   "metadata": {},
   "source": [
    "Define smart collatz path based off odd collatz function:\n",
    "    x mod 8 = 5, (x-1)/4, \"L\"\n",
    "    x mod 4 = 3, (3x+1)/2, \"2\"\n",
    "    x mod 8 = 1, (3x+1)/4, \"4\"\n",
    "    \n",
    "Objective: Perform sectioning on any binary number using its smart collatz path. (Doesn't seem to be useful in proving the conjecture - you would first need to carry out the path.)"
   ]
  },
  {
   "cell_type": "code",
   "execution_count": 1,
   "metadata": {},
   "outputs": [],
   "source": [
    "#binary shortcuts\n",
    "\n",
    "def binary(n):\n",
    "    \"Removes the leading 0b from the bin function.\"\n",
    "    return str(bin(n))[2:]\n",
    "\n",
    "def binaryAdd(str1, str2):\n",
    "    \"Adds two binary strings and returns the sum string.\"\n",
    "    if not str1:\n",
    "        return str2\n",
    "    if not str2:\n",
    "        return str1\n",
    "    return binary(int(str1, 2) + int(str2, 2))\n",
    "\n",
    "def binaryMultiply(str1, str2):\n",
    "    \"Multiplies two binary strings and returns the product string.\"\n",
    "    if str1 and str2:\n",
    "        return binary(int(str1, 2) * int(str2, 2))\n",
    "    return \"\""
   ]
  },
  {
   "cell_type": "code",
   "execution_count": 3,
   "metadata": {},
   "outputs": [],
   "source": [
    "#implement the smart collatz traversal\n",
    "\n",
    "def collDirection(string):\n",
    "    \"Performs one pass of the smart collatz function and returns a list containing the modified binary and direction used.\"\n",
    "    direction = \"\"\n",
    "    if string == \"1\":\n",
    "        return [string, \"\"]\n",
    "    if len(string) > 2 and string[-3:] == \"101\":\n",
    "        direction = \"L\"\n",
    "        string = string[:-3] + \"1\"\n",
    "    elif len(string) > 1 and string[-2:] == \"11\":\n",
    "        direction = \"2\"\n",
    "        string = binaryAdd(binaryMultiply(string[:-2], \"11\"), \"10\") + \"1\"\n",
    "    elif len(string) > 2 and string[-3:] == \"001\":\n",
    "        direction = \"4\"\n",
    "        string = binaryMultiply(string[:-3], \"11\") + \"1\"\n",
    "    return [string, direction]\n",
    "\n",
    "def easyColl(string, verbose=False):\n",
    "    \"Returns the smart collatz orbit of the number as a string with appended directions.\"\n",
    "    history = \"\"\n",
    "    if verbose:\n",
    "        print(int(string, 2))\n",
    "    while string is not \"1\":\n",
    "        data = collDirection(string)\n",
    "        if verbose:\n",
    "            print(int(data[0], 2), data[1])\n",
    "        string = data[0]\n",
    "        history += data[1]\n",
    "    return history"
   ]
  },
  {
   "cell_type": "code",
   "execution_count": 8,
   "metadata": {},
   "outputs": [],
   "source": [
    "#identify depth identities\n",
    "\n",
    "def smallBranches(n, depth, base=1):\n",
    "    \"Returns a list containing the n smallest numbers at specific depth from 1. 'x' denotes a branch stemming at multiple of 3.\"\n",
    "    if depth == 0:\n",
    "        return []\n",
    "    x = [base]\n",
    "    for i in range(1, n):\n",
    "        x.append(4 * x[i-1] + 1)\n",
    "    for i in range(2, depth + 1):\n",
    "        for j, branch in enumerate(x):\n",
    "            if branch == \"x\":\n",
    "                continue\n",
    "            if branch % 3 == 0:\n",
    "                if i > 2:\n",
    "                    x[j] = 4 * branch + 1\n",
    "                    branch = x[j]\n",
    "                else:\n",
    "                    x[j] = \"x\"\n",
    "                    continue\n",
    "            exp = 1\n",
    "            while (branch * (2 ** exp) - 1) % 3 != 0:\n",
    "                exp += 1\n",
    "            x[j] = (branch * (2 ** exp) - 1)//3\n",
    "    return x"
   ]
  },
  {
   "cell_type": "code",
   "execution_count": 11,
   "metadata": {},
   "outputs": [
    {
     "name": "stdout",
     "output_type": "stream",
     "text": [
      "4L2 (0) -> 24LL (101)\n",
      "24 () -> 22L (1)\n",
      "22 () -> 4L4LL (11011000)\n",
      "4L4 (0) -> 42L ()\n",
      "42 (0) -> 44LL (100000)\n",
      "44 (0) -> 4L2L (1000)\n"
     ]
    }
   ],
   "source": [
    "#derive finite automata transitions\n",
    "\n",
    "def highlightDifference(str1, str2):\n",
    "    \"Returns a string labelling the binary and path differences between consecutive depth identities.\"\n",
    "    idx = 0\n",
    "    while idx < len(str1) and idx < len(str2) and str1[idx] is str2[idx]:\n",
    "        idx += 1\n",
    "    firstStrip = easyColl(str1 + \"1\").strip('L')\n",
    "    pad = 'L'\n",
    "    if firstStrip[-1] == '2':\n",
    "        pad = 'LL'\n",
    "    print(firstStrip + \" (\" + str1[idx:] + \") -> \" + easyColl(str2 + \"1\").strip('L') + pad + \" (\" + str2[idx:] + \")\")\n",
    "\n",
    "def printDifferences(depth):\n",
    "    \"Prints all unique differences at specified depth.\"\n",
    "    cycle = smallBranches(3 ** (depth - 1) + 3, depth)\n",
    "    jump = 2\n",
    "    i = 1\n",
    "    while i + jump < len(cycle):\n",
    "        highlightDifference(binary(cycle[i])[:-1], binary(cycle[i + jump])[:-1])\n",
    "        i += jump\n",
    "        jump = 3 - jump\n",
    "        \n",
    "printDifferences(3)"
   ]
  },
  {
   "cell_type": "code",
   "execution_count": null,
   "metadata": {},
   "outputs": [],
   "source": [
    "#TODO: match warp nodes at state transitions to \"nest\" machines\n",
    "\n",
    "def matchWarps(depth):\n",
    "    cycle1 = smallBranches(3 ** (depth - 1) + 3, depth)\n",
    "    cycle2 = smallBranches(3 ** (depth - 2) + 3, depth - 1)\n",
    "    \n",
    "    def getTransitions(cycle):\n",
    "        \n",
    "        jump = 2\n",
    "        i = 1\n",
    "        while i + jump < len(cycle):\n",
    "            highlightDifference(binary(cycle[i])[:-1], binary(cycle[i + jump])[:-1])\n",
    "            i += jump\n",
    "            jump = 3 - jump"
   ]
  }
 ],
 "metadata": {
  "kernelspec": {
   "display_name": "Python 3",
   "language": "python",
   "name": "python3"
  },
  "language_info": {
   "codemirror_mode": {
    "name": "ipython",
    "version": 3
   },
   "file_extension": ".py",
   "mimetype": "text/x-python",
   "name": "python",
   "nbconvert_exporter": "python",
   "pygments_lexer": "ipython3",
   "version": "3.6.4"
  }
 },
 "nbformat": 4,
 "nbformat_minor": 2
}
